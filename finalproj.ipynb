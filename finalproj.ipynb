{
 "cells": [
  {
   "cell_type": "code",
   "execution_count": 1,
   "id": "c8015751",
   "metadata": {},
   "outputs": [
    {
     "data": {
      "image/png": "[encoded data removed]",
      "text/plain": [
       "<Figure size 432x288 with 1 Axes>"
      ]
     },
     "metadata": {
      "needs_background": "light"
     },
     "output_type": "display_data"
    },
    {
     "data": {
      "image/png": "[encoded data removed]",
      "text/plain": [
       "<Figure size 432x288 with 1 Axes>"
      ]
     },
     "metadata": {
      "needs_background": "light"
     },
     "output_type": "display_data"
    }
   ],
   "source": [
    "import numpy as np\n",
    "import pandas as pd\n",
    "import seaborn as sns\n",
    "import matplotlib.pyplot as plt\n",
    "%matplotlib inline\n",
    "\n",
    "df = pd.read_csv(\"California_Houses.csv\")\n",
    "plt.hist(df[\"Median_House_Value\"])\n",
    "\n",
    "plt.show()\n",
    "plt.boxplot(df[\"Median_House_Value\"])\n",
    "plt.show()"
   ]
  },
  {
   "cell_type": "code",
   "execution_count": 2,
   "id": "3c4d4042",
   "metadata": {},
   "outputs": [
    {
     "name": "stdout",
     "output_type": "stream",
     "text": [
      "   Median_House_Value  Median_Income  Median_Age  Tot_Rooms  Tot_Bedrooms  \\\n",
      "0            452600.0         8.3252          41        880           129   \n",
      "1            358500.0         8.3014          21       7099          1106   \n",
      "2            352100.0         7.2574          52       1467           190   \n",
      "3            341300.0         5.6431          52       1274           235   \n",
      "4            342200.0         3.8462          52       1627           280   \n",
      "\n",
      "   Population  Households  Latitude  Longitude  Distance_to_coast  \\\n",
      "0         322         126     37.88    -122.23        9263.040773   \n",
      "1        2401        1138     37.86    -122.22       10225.733070   \n",
      "2         496         177     37.85    -122.24        8259.085109   \n",
      "3         558         219     37.85    -122.25        7768.086571   \n",
      "4         565         259     37.85    -122.25        7768.086571   \n",
      "\n",
      "   Distance_to_LA  Distance_to_SanDiego  Distance_to_SanJose  \\\n",
      "0     556529.1583           735501.8070          67432.51700   \n",
      "1     554279.8501           733236.8844          65049.90857   \n",
      "2     554610.7171           733525.6829          64867.28983   \n",
      "3     555194.2661           734095.2907          65287.13841   \n",
      "4     555194.2661           734095.2907          65287.13841   \n",
      "\n",
      "   Distance_to_SanFrancisco  \n",
      "0               21250.21377  \n",
      "1               20880.60040  \n",
      "2               18811.48745  \n",
      "3               18031.04757  \n",
      "4               18031.04757  \n"
     ]
    }
   ],
   "source": [
    "print(df.head())"
   ]
  },
  {
   "cell_type": "code",
   "execution_count": 5,
   "id": "c6356491",
   "metadata": {},
   "outputs": [
    {
     "data": {
      "image/png": "[encoded data removed]",
      "text/plain": [
       "<Figure size 432x288 with 1 Axes>"
      ]
     },
     "metadata": {
      "needs_background": "light"
     },
     "output_type": "display_data"
    }
   ],
   "source": [
    "la = df[df[\"Distance_to_LA\"] < 20000][\"Median_House_Value\"]\n",
    "sf = df[df[\"Distance_to_SanFrancisco\"] < 20000][\"Median_House_Value\"]\n",
    "sd = df[df[\"Distance_to_SanDiego\"] < 20000][\"Median_House_Value\"]\n",
    "sj = df[df[\"Distance_to_SanJose\"] < 20000][\"Median_House_Value\"]\n",
    "plt.hist(la,alpha=0.7,bins=50)\n",
    "plt.hist(sf,alpha=0.7,bins=50)\n",
    "plt.hist(sd,alpha=0.7,bins=50)\n",
    "plt.hist(sj,alpha=0.7,bins=50)\n",
    "plt.legend([\"LA\", \"SanFrancisco\", \"SanDiego\", \"SanJose\"])\n",
    "plt.show()"
   ]
  },
  {
   "cell_type": "code",
   "execution_count": 10,
   "id": "cb6c5686",
   "metadata": {},
   "outputs": [
    {
     "name": "stdout",
     "output_type": "stream",
     "text": [
      "       Median_House_Value  Median_Income  Median_Age  Tot_Rooms  Tot_Bedrooms  \\\n",
      "89               500001.0         1.2434          52        249            78   \n",
      "459              500001.0         1.1696          52        609           236   \n",
      "493              500001.0         7.8521          52       1668           225   \n",
      "494              500001.0         9.3959          52       3726           474   \n",
      "509              500001.0         7.8772          52       2990           379   \n",
      "...                   ...            ...         ...        ...           ...   \n",
      "20422            500001.0         5.1457          35       1503           263   \n",
      "20426            500001.0        10.0472          11       1177           138   \n",
      "20427            500001.0         8.6499           4      15572          2222   \n",
      "20436            500001.0        12.5420          10       3663           409   \n",
      "20443            500001.0         3.3438          50        187            33   \n",
      "\n",
      "       Population  Households  Latitude  Longitude  Distance_to_coast  \\\n",
      "89            396          85     37.80    -122.27        2524.614616   \n",
      "459          1349         250     37.87    -122.25        7897.024567   \n",
      "493           517         214     37.86    -122.24        9154.528309   \n",
      "494          1366         496     37.85    -122.24        8259.085109   \n",
      "509           947         361     37.83    -122.23        7284.913015   \n",
      "...           ...         ...       ...        ...                ...   \n",
      "20422         576         216     34.14    -118.90       14291.579330   \n",
      "20426         415         119     34.18    -118.69       18176.185170   \n",
      "20427        5495        2152     34.19    -118.80       18641.855450   \n",
      "20436        1179         371     34.21    -118.69       21190.509580   \n",
      "20443         130          35     34.27    -118.85       27352.890030   \n",
      "\n",
      "       Distance_to_LA  Distance_to_SanDiego  Distance_to_SanJose  \\\n",
      "89       552234.05150           731023.5749          61415.35211   \n",
      "459      556856.92800           735788.3723          67242.51828   \n",
      "493      555442.50860           734372.6023          65849.13943   \n",
      "494      554610.71710           733525.6829          64867.28983   \n",
      "509      552365.47120           731263.5682          62493.11252   \n",
      "...               ...                   ...                  ...   \n",
      "20422     61216.65647           226094.8666         446290.71510   \n",
      "20426     43474.08334           215937.6097         454515.89370   \n",
      "20427     53452.71632           223581.6532         447394.40250   \n",
      "20436     44668.86634           218447.6825         451911.94900   \n",
      "20443     60815.31122           233223.7123         437548.90890   \n",
      "\n",
      "       Distance_to_SanFrancisco  \n",
      "89                  14466.70538  \n",
      "459                 19172.81885  \n",
      "493                 19335.74118  \n",
      "494                 18811.48745  \n",
      "509                 18750.94628  \n",
      "...                         ...  \n",
      "20422              514009.97740  \n",
      "20426              522432.19480  \n",
      "20427              515242.86950  \n",
      "20436              519844.96320  \n",
      "20443              505416.73770  \n",
      "\n",
      "[992 rows x 14 columns]\n"
     ]
    }
   ],
   "source": [
    "print(df[df[\"Median_House_Value\"] >= 500000])"
   ]
  },
  {
   "cell_type": "code",
   "execution_count": null,
   "id": "27b80331",
   "metadata": {},
   "outputs": [],
   "source": []
  }
 ],
 "metadata": {
  "kernelspec": {
   "display_name": "introds",
   "language": "python",
   "name": "introds"
  },
  "language_info": {
   "codemirror_mode": {
    "name": "ipython",
    "version": 3
   },
   "file_extension": ".py",
   "mimetype": "text/x-python",
   "name": "python",
   "nbconvert_exporter": "python",
   "pygments_lexer": "ipython3",
   "version": "3.9.7"
  }
 },
 "nbformat": 4,
 "nbformat_minor": 5
}
