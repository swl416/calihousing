{
 "cells": [
  {
   "cell_type": "code",
   "execution_count": 1,
   "id": "c8015751",
   "metadata": {},
   "outputs": [
    {
     "data": {
      "image/png": "[encoded data removed]",
      "text/plain": [
       "<Figure size 432x288 with 1 Axes>"
      ]
     },
     "metadata": {
      "needs_background": "light"
     },
     "output_type": "display_data"
    },
    {
     "data": {
      "image/png": "[encoded data removed]",
      "text/plain": [
       "<Figure size 432x288 with 1 Axes>"
      ]
     },
     "metadata": {
      "needs_background": "light"
     },
     "output_type": "display_data"
    }
   ],
   "source": [
    "import numpy as np\n",
    "import pandas as pd\n",
    "import seaborn as sns\n",
    "import matplotlib.pyplot as plt\n",
    "%matplotlib inline\n",
    "\n",
    "df = pd.read_csv(\"California_Houses.csv\")\n",
    "plt.hist(df[\"Median_House_Value\"])\n",
    "\n",
    "plt.show()\n",
    "plt.boxplot(df[\"Median_House_Value\"])\n",
    "plt.show()"
   ]
  },
  {
   "cell_type": "code",
   "execution_count": 2,
   "id": "3c4d4042",
   "metadata": {},
   "outputs": [
    {
     "name": "stdout",
     "output_type": "stream",
     "text": [
      "   Median_House_Value  Median_Income  Median_Age  Tot_Rooms  Tot_Bedrooms  \\\n",
      "0            452600.0         8.3252          41        880           129   \n",
      "1            358500.0         8.3014          21       7099          1106   \n",
      "2            352100.0         7.2574          52       1467           190   \n",
      "3            341300.0         5.6431          52       1274           235   \n",
      "4            342200.0         3.8462          52       1627           280   \n",
      "\n",
      "   Population  Households  Latitude  Longitude  Distance_to_coast  \\\n",
      "0         322         126     37.88    -122.23        9263.040773   \n",
      "1        2401        1138     37.86    -122.22       10225.733070   \n",
      "2         496         177     37.85    -122.24        8259.085109   \n",
      "3         558         219     37.85    -122.25        7768.086571   \n",
      "4         565         259     37.85    -122.25        7768.086571   \n",
      "\n",
      "   Distance_to_LA  Distance_to_SanDiego  Distance_to_SanJose  \\\n",
      "0     556529.1583           735501.8070          67432.51700   \n",
      "1     554279.8501           733236.8844          65049.90857   \n",
      "2     554610.7171           733525.6829          64867.28983   \n",
      "3     555194.2661           734095.2907          65287.13841   \n",
      "4     555194.2661           734095.2907          65287.13841   \n",
      "\n",
      "   Distance_to_SanFrancisco  \n",
      "0               21250.21377  \n",
      "1               20880.60040  \n",
      "2               18811.48745  \n",
      "3               18031.04757  \n",
      "4               18031.04757  \n"
     ]
    }
   ],
   "source": [
    "print(df.head())"
   ]
  },
  {
   "cell_type": "code",
   "execution_count": null,
   "id": "6642d40a",
   "metadata": {},
   "outputs": [],
   "source": [
    "plt.hist(df[\"Distance_to_LA\"],alpha=0.7,bins=50)\n",
    "plt.hist(df[\"Distance_to_SanFrancisco\"],alpha=0.7,bins=50)\n",
    "plt.legend([\"Distance_to_LA\", \"Distance_to_SanFrancisco\"])\n",
    "plt.show()"
   ]
  }
 ],
 "metadata": {
  "kernelspec": {
   "display_name": "introds",
   "language": "python",
   "name": "introds"
  },
  "language_info": {
   "codemirror_mode": {
    "name": "ipython",
    "version": 3
   },
   "file_extension": ".py",
   "mimetype": "text/x-python",
   "name": "python",
   "nbconvert_exporter": "python",
   "pygments_lexer": "ipython3",
   "version": "3.9.7"
  }
 },
 "nbformat": 4,
 "nbformat_minor": 5
}
